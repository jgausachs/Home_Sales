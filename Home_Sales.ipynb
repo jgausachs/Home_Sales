{
 "cells": [
  {
   "cell_type": "code",
   "execution_count": 1,
   "metadata": {
    "colab": {
     "base_uri": "https://localhost:8080/"
    },
    "id": "a_KW73O2e3dw",
    "outputId": "fa5fd2b3-e2de-491b-ee1c-405317ba7ebc"
   },
   "outputs": [],
   "source": [
    "# Import findspark and initialise. \n",
    "import findspark\n",
    "findspark.init()"
   ]
  },
  {
   "cell_type": "code",
   "execution_count": 15,
   "metadata": {
    "id": "2XbWNf1Te5fM"
   },
   "outputs": [],
   "source": [
    "# Import packages\n",
    "from pyspark.sql import SparkSession\n",
    "import time\n",
    "\n",
    "# Create a SparkSession\n",
    "spark = SparkSession.builder.appName(\"SparkSQL\").getOrCreate()"
   ]
  },
  {
   "cell_type": "code",
   "execution_count": 29,
   "metadata": {
    "colab": {
     "base_uri": "https://localhost:8080/"
    },
    "id": "wOJqxG_RPSwp",
    "outputId": "7857ef9f-5b04-405d-f5aa-e535dfe7870c"
   },
   "outputs": [
    {
     "name": "stdout",
     "output_type": "stream",
     "text": [
      "23/05/07 08:15:11 WARN SparkContext: The path https://2u-data-curriculum-team.s3.amazonaws.com/dataviz-classroom/v1.2/22-big-data/home_sales_revised.csv has been added already. Overwriting of added paths is not supported in the current version.\n",
      "+--------------------+-------------------+----------+------+--------+---------+-----------+--------+------+----------+----+---------+\n",
      "|                  id|               date|date_built| price|bedrooms|bathrooms|sqft_living|sqft_lot|floors|waterfront|view|year_sold|\n",
      "+--------------------+-------------------+----------+------+--------+---------+-----------+--------+------+----------+----+---------+\n",
      "|f8a53099-ba1c-47d...|2022-04-08 00:00:00|      2016|936923|       4|        3|       3167|   11733|     2|         1|  76|     2022|\n",
      "|7530a2d8-1ae3-451...|2021-06-13 00:00:00|      2013|379628|       2|        2|       2235|   14384|     1|         0|  23|     2021|\n",
      "|43de979c-0bf0-4c9...|2019-04-12 00:00:00|      2014|417866|       2|        2|       2127|   10575|     2|         0|   0|     2019|\n",
      "|b672c137-b88c-48b...|2019-10-16 00:00:00|      2016|239895|       2|        2|       1631|   11149|     2|         0|   0|     2019|\n",
      "|e0726d4d-d595-407...|2022-01-08 00:00:00|      2017|424418|       3|        2|       2249|   13878|     2|         0|   4|     2022|\n",
      "|5aa00529-0533-46b...|2019-01-30 00:00:00|      2017|218712|       2|        3|       1965|   14375|     2|         0|   7|     2019|\n",
      "|131492a1-72e2-4a8...|2020-02-08 00:00:00|      2017|419199|       2|        3|       2062|    8876|     2|         0|   6|     2020|\n",
      "|8d54a71b-c520-44e...|2019-07-21 00:00:00|      2010|323956|       2|        3|       1506|   11816|     1|         0|  25|     2019|\n",
      "|e81aacfe-17fe-46b...|2020-06-16 00:00:00|      2016|181925|       3|        3|       2137|   11709|     2|         0|  22|     2020|\n",
      "|2ed8d509-7372-46d...|2021-08-06 00:00:00|      2015|258710|       3|        3|       1918|    9666|     1|         0|  25|     2021|\n",
      "|f876d86f-3c9f-42b...|2019-02-27 00:00:00|      2011|167864|       3|        3|       2471|   13924|     2|         0|  15|     2019|\n",
      "|0a2bd445-8508-4d8...|2021-12-30 00:00:00|      2014|337527|       2|        3|       1926|   12556|     1|         0|  23|     2021|\n",
      "|941bad30-eb49-4a7...|2020-05-09 00:00:00|      2015|229896|       3|        3|       2197|    8641|     1|         0|   3|     2020|\n",
      "|dd61eb34-6589-4c0...|2021-07-25 00:00:00|      2016|210247|       3|        2|       1672|   11986|     2|         0|  28|     2021|\n",
      "|f1e4cef7-d151-439...|2019-02-01 00:00:00|      2011|398667|       2|        3|       2331|   11356|     1|         0|   7|     2019|\n",
      "|ea620c7b-c2f7-4c6...|2021-05-31 00:00:00|      2011|437958|       3|        3|       2356|   11052|     1|         0|  26|     2021|\n",
      "|f233cb41-6f33-4b0...|2021-07-18 00:00:00|      2016|437375|       4|        3|       1704|   11721|     2|         0|  34|     2021|\n",
      "|c797ca12-52cd-4b1...|2019-06-08 00:00:00|      2015|288650|       2|        3|       2100|   10419|     2|         0|   7|     2019|\n",
      "|0cfe57f3-28c2-472...|2019-10-04 00:00:00|      2015|308313|       3|        3|       1960|    9453|     2|         0|   2|     2019|\n",
      "|4566cd2a-ac6e-435...|2019-07-15 00:00:00|      2016|177541|       3|        3|       2130|   10517|     2|         0|  25|     2019|\n",
      "+--------------------+-------------------+----------+------+--------+---------+-----------+--------+------+----------+----+---------+\n",
      "only showing top 20 rows\n",
      "\n"
     ]
    }
   ],
   "source": [
    "# 1a. Read in the AWS S3 bucket into a DataFrame.\n",
    "from pyspark import SparkFiles\n",
    "url = \"https://2u-data-curriculum-team.s3.amazonaws.com/dataviz-classroom/v1.2/22-big-data/home_sales_revised.csv\"\n",
    "spark.sparkContext.addFile(url)\n",
    "df = spark.read.csv(SparkFiles.get(\"home_sales_revised.csv\"), header=True, inferSchema=True, quote=\"\\\"\", escape=\"\\\"\")\n",
    "\n",
    "# 1b. Create a new DataFrame with the column year.\n",
    "from pyspark.sql.functions import year\n",
    "df = df.withColumn(\"year_sold\", year(df[\"date\"]))\n",
    "\n",
    "# 1c. Show DataFrame.\n",
    "df.show()\n"
   ]
  },
  {
   "cell_type": "code",
   "execution_count": 32,
   "metadata": {},
   "outputs": [
    {
     "name": "stdout",
     "output_type": "stream",
     "text": [
      "+-------+--------------------+------------------+------------------+------------------+-----------------+------------------+------------------+------------------+-------------------+------------------+------------------+\n",
      "|summary|                  id|        date_built|             price|          bedrooms|        bathrooms|       sqft_living|          sqft_lot|            floors|         waterfront|              view|         year_sold|\n",
      "+-------+--------------------+------------------+------------------+------------------+-----------------+------------------+------------------+------------------+-------------------+------------------+------------------+\n",
      "|  count|               33287|             33287|             33287|             33287|            33287|             33287|             33287|             33287|              33287|             33287|             33287|\n",
      "|   mean|                null|2013.5174091987863|314907.81797698804| 3.082224291765554|2.588758374140055|2116.5057529966653|11519.867726139333|1.5248595547811459|0.02265148556493526|27.427223841139185|2020.2600714993841|\n",
      "| stddev|                null| 2.291826421466152|179347.21219428742|0.9568587592408945|0.685677051384091| 638.5730310404058|2020.6797030936623|0.5279878944447897| 0.1487920053730931|18.330708786864424|1.0148444718792817|\n",
      "|    min|00003cbc-d413-40a...|              2010|            120023|                 2|                2|              1500|              8000|                 1|                  0|                 0|              2019|\n",
      "|    max|ffff94aa-797c-49e...|              2017|           1499741|                 8|                6|              5998|             15000|                 3|                  1|               100|              2022|\n",
      "+-------+--------------------+------------------+------------------+------------------+-----------------+------------------+------------------+------------------+-------------------+------------------+------------------+\n",
      "\n"
     ]
    }
   ],
   "source": [
    "# 1d. Describe DataFrame.\n",
    "df.describe().show()"
   ]
  },
  {
   "cell_type": "code",
   "execution_count": 53,
   "metadata": {
    "id": "RoljcJ7WPpnm"
   },
   "outputs": [],
   "source": [
    "# 2. Create a temporary view of the DataFrame.\n",
    "df.createOrReplaceTempView('home_sales')\n"
   ]
  },
  {
   "cell_type": "code",
   "execution_count": 35,
   "metadata": {
    "colab": {
     "base_uri": "https://localhost:8080/"
    },
    "id": "L6fkwOeOmqvq",
    "outputId": "bdded620-79c4-488d-c7a5-91c6799c419e"
   },
   "outputs": [
    {
     "name": "stdout",
     "output_type": "stream",
     "text": [
      "Year Sold: 2019 Average Price: 300263.7\n",
      "Year Sold: 2020 Average Price: 298353.78\n",
      "Year Sold: 2021 Average Price: 301819.44\n",
      "Year Sold: 2022 Average Price: 296363.88\n"
     ]
    }
   ],
   "source": [
    "# 3a. What is the average price for a four bedroom house sold in each year rounded to two decimal places?\n",
    "avg_prices = spark.sql(\"\"\"\n",
    "SELECT \n",
    "    year_sold AS year,\n",
    "    AVG(price)\n",
    "FROM home_sales \n",
    "WHERE bedrooms = 4\n",
    "GROUP BY year \n",
    "ORDER BY year\n",
    "\"\"\").collect()\n",
    "\n",
    "# 3b. Convert the Spark SQL query results to a list.\n",
    "avg_prices_list = [row for row in avg_prices]\n",
    "\n",
    "# 3c. Show the list rounded to two decimal places.\n",
    "for row in avg_prices_list:\n",
    "    print(f\"Year Sold: {row[0]} Average Price: {round(row[1], 2)}\")\n"
   ]
  },
  {
   "cell_type": "code",
   "execution_count": 36,
   "metadata": {
    "colab": {
     "base_uri": "https://localhost:8080/"
    },
    "id": "l8p_tUS8h8it",
    "outputId": "65806e5f-6262-41c0-ff65-5107464e5c4d"
   },
   "outputs": [
    {
     "name": "stdout",
     "output_type": "stream",
     "text": [
      "Year Built: 2010 Average Price: 292859.62\n",
      "Year Built: 2011 Average Price: 291117.47\n",
      "Year Built: 2012 Average Price: 293683.19\n",
      "Year Built: 2013 Average Price: 295962.27\n",
      "Year Built: 2014 Average Price: 290852.27\n",
      "Year Built: 2015 Average Price: 288770.3\n",
      "Year Built: 2016 Average Price: 290555.07\n",
      "Year Built: 2017 Average Price: 292676.79\n"
     ]
    }
   ],
   "source": [
    "# 4a. What is the average price of a home for each year the home was built that have 3 bedrooms and 3 bathrooms rounded to two decimal places?\n",
    "avg_prices = spark.sql(\"\"\"\n",
    "SELECT\n",
    "    date_built,\n",
    "    AVG(price)\n",
    "FROM home_sales\n",
    "WHERE bedrooms = 3 AND bathrooms = 3\n",
    "GROUP BY date_built\n",
    "ORDER BY date_built\n",
    "\"\"\").collect()\n",
    "\n",
    "# 4b. Convert the Spark SQL query results to a list.\n",
    "avg_prices_list = [row for row in avg_prices]\n",
    "\n",
    "# 4c. Show the list rounded to two decimal places.\n",
    "for row in avg_prices_list:\n",
    "    print(f\"Year Built: {row[0]} Average Price: {round(row[1], 2)}\")\n",
    "\n",
    "\n"
   ]
  },
  {
   "cell_type": "code",
   "execution_count": 37,
   "metadata": {
    "colab": {
     "base_uri": "https://localhost:8080/"
    },
    "id": "Y-Eytz64liDU",
    "outputId": "17119810-56ad-40c3-de5e-c3db57e43bcc"
   },
   "outputs": [
    {
     "name": "stdout",
     "output_type": "stream",
     "text": [
      "Year Built: 2010 Average Price: 285010.22\n",
      "Year Built: 2011 Average Price: 276553.81\n",
      "Year Built: 2012 Average Price: 307539.97\n",
      "Year Built: 2013 Average Price: 303676.79\n",
      "Year Built: 2014 Average Price: 298264.72\n",
      "Year Built: 2015 Average Price: 297609.97\n",
      "Year Built: 2016 Average Price: 293965.1\n",
      "Year Built: 2017 Average Price: 280317.58\n"
     ]
    }
   ],
   "source": [
    "#  5a. What is the average price of a home for each year built that have 3 bedrooms, 3 bathrooms, \n",
    "# with two floors, and are greater than or equal to 2,000 square feet rounded to two decimal places?\n",
    "avg_prices = spark.sql(\"\"\"\n",
    "SELECT\n",
    "    date_built,\n",
    "    AVG(price)\n",
    "FROM home_sales\n",
    "WHERE bedrooms = 3 AND bathrooms = 3 AND floors = 2 AND sqft_living >= 2000\n",
    "GROUP BY date_built\n",
    "ORDER BY date_built\n",
    "\"\"\").collect()\n",
    "\n",
    "# 5b. Convert the Spark SQL query results to a list.\n",
    "avg_prices_list = [row for row in avg_prices]\n",
    "\n",
    "# 5c. Show the list rounded to two decimal places.\n",
    "for row in avg_prices_list:\n",
    "    print(f\"Year Built: {row[0]} Average Price: {round(row[1], 2)}\")\n"
   ]
  },
  {
   "cell_type": "code",
   "execution_count": 65,
   "metadata": {
    "colab": {
     "base_uri": "https://localhost:8080/"
    },
    "id": "GUrfgOX1pCRd",
    "outputId": "17c25774-855e-4290-a4bd-a04902bdc13a"
   },
   "outputs": [
    {
     "name": "stdout",
     "output_type": "stream",
     "text": [
      "+---------+------------------+\n",
      "|avg(view)|        avg(price)|\n",
      "+---------+------------------+\n",
      "|   32.264|473796.26220224716|\n",
      "+---------+------------------+\n",
      "\n",
      "--- 0.042181968688964844 seconds ---\n",
      "\n",
      "Average View Rating: 32.26 Average Price: 473796.26\n"
     ]
    }
   ],
   "source": [
    "# 6a. What is the \"view\" rating for the average price of a home, rounded to two decimal places, where the homes are greater than\n",
    "# or equal to $350,000? Although this is a small dataset, determine the run time for this query.\n",
    "start_time_nc = time.time()\n",
    "\n",
    "spark.sql(\"\"\"\n",
    "SELECT\n",
    "    AVG(view),\n",
    "    AVG(price)\n",
    "FROM home_sales\n",
    "WHERE price >= 350000\n",
    "\"\"\").show()\n",
    "\n",
    "print(\"--- %s seconds ---\" % (time.time() - start_time_nc))\n",
    "\n",
    "avg_prices = spark.sql(\"\"\"\n",
    "SELECT\n",
    "    AVG(view),\n",
    "    AVG(price)\n",
    "FROM home_sales\n",
    "WHERE price >= 350000\n",
    "\"\"\").collect()\n",
    "\n",
    "#6b. Convert the Spark SQL query results to a list.\n",
    "avg_prices_list = [row for row in avg_prices]\n",
    "\n",
    "# 6c. Show the list rounded to two decimal places.\n",
    "print()\n",
    "for row in avg_prices_list:\n",
    "    print(f\"Average View Rating: {round(row[0], 2)} Average Price: {round(row[1], 2)}\")\n"
   ]
  },
  {
   "cell_type": "code",
   "execution_count": 54,
   "metadata": {
    "colab": {
     "base_uri": "https://localhost:8080/"
    },
    "id": "KAhk3ZD2tFy8",
    "outputId": "0a8f132d-40a8-4bd4-b5f2-2847e98427f5"
   },
   "outputs": [],
   "source": [
    "# 7. Cache the the temporary table home_sales.\n",
    "spark.catalog.cacheTable('home_sales')\n"
   ]
  },
  {
   "cell_type": "code",
   "execution_count": 55,
   "metadata": {
    "colab": {
     "base_uri": "https://localhost:8080/"
    },
    "id": "4opVhbvxtL-i",
    "outputId": "38ec8487-795f-4550-b50c-fcc6f2b7c769"
   },
   "outputs": [
    {
     "data": {
      "text/plain": [
       "True"
      ]
     },
     "execution_count": 55,
     "metadata": {},
     "output_type": "execute_result"
    }
   ],
   "source": [
    "# 8. Check if the table is cached.\n",
    "spark.catalog.isCached('home_sales')\n"
   ]
  },
  {
   "cell_type": "code",
   "execution_count": 66,
   "metadata": {
    "colab": {
     "base_uri": "https://localhost:8080/"
    },
    "id": "5GnL46lwTSEk",
    "outputId": "09a16c73-194d-4371-95d1-ee64fe83b91c"
   },
   "outputs": [
    {
     "name": "stdout",
     "output_type": "stream",
     "text": [
      "+---------+------------------+\n",
      "|avg(view)|        avg(price)|\n",
      "+---------+------------------+\n",
      "|   32.264|473796.26220224716|\n",
      "+---------+------------------+\n",
      "\n",
      "--- 0.042514801025390625 seconds ---\n",
      "-2.951399087905884\n"
     ]
    }
   ],
   "source": [
    "# 9a. Using the cached data, run the query that filters out the view ratings with average price \n",
    "#  greater than or equal to $350,000. Determine the runtime and compare it to uncached runtime.\n",
    "start_time_c = time.time()\n",
    "\n",
    "spark.sql(\"\"\"\n",
    "SELECT\n",
    "    AVG(view),\n",
    "    AVG(price)\n",
    "FROM home_sales\n",
    "WHERE price >= 350000\n",
    "\"\"\").show()\n",
    "\n",
    "print(\"--- %s seconds ---\" % (time.time() - start_time_c))\n",
    "\n",
    "# 9b. Dsplay the difference between the run times.\n",
    "print()\n",
    "print(start_time_nc - start_time_c)\n"
   ]
  },
  {
   "cell_type": "code",
   "execution_count": null,
   "metadata": {
    "id": "Qm12WN9isHBR"
   },
   "outputs": [],
   "source": [
    "# 10. Partition by the \"date_built\" field on the formatted parquet home sales data \n"
   ]
  },
  {
   "cell_type": "code",
   "execution_count": null,
   "metadata": {
    "id": "AZ7BgY61sRqY"
   },
   "outputs": [],
   "source": [
    "# 11. Read the formatted parquet data.\n"
   ]
  },
  {
   "cell_type": "code",
   "execution_count": null,
   "metadata": {
    "id": "J6MJkHfvVcvh"
   },
   "outputs": [],
   "source": [
    "# 12. Create a temporary table for the parquet data.\n"
   ]
  },
  {
   "cell_type": "code",
   "execution_count": null,
   "metadata": {
    "colab": {
     "base_uri": "https://localhost:8080/"
    },
    "id": "G_Vhb52rU1Sn",
    "outputId": "a0b8d0c4-55ed-4c6c-bfd8-4c8c5334838e"
   },
   "outputs": [],
   "source": [
    "# 13. Run the query that filters out the view ratings with average price of greater than or eqaul to $350,000 \n",
    "# with the parquet DataFrame. Round your average to two decimal places. \n",
    "# Determine the runtime and compare it to the cached version. \n",
    "\n",
    "start_time = time.time()\n",
    "\n",
    "\n",
    "\n",
    "print(\"--- %s seconds ---\" % (time.time() - start_time))"
   ]
  },
  {
   "cell_type": "code",
   "execution_count": null,
   "metadata": {
    "colab": {
     "base_uri": "https://localhost:8080/"
    },
    "id": "hjjYzQGjtbq8",
    "outputId": "830549fd-bb41-451b-9183-5ebf6e3e470b"
   },
   "outputs": [],
   "source": [
    "# 14. Uncache the home_sales temporary table.\n"
   ]
  },
  {
   "cell_type": "code",
   "execution_count": null,
   "metadata": {
    "colab": {
     "base_uri": "https://localhost:8080/"
    },
    "id": "Sy9NBvO7tlmm",
    "outputId": "be73e0e3-5e85-4794-aad9-025fb6fa84a7"
   },
   "outputs": [],
   "source": [
    "# 15. Check if the home_sales is no longer cached\n",
    "\n"
   ]
  },
  {
   "cell_type": "code",
   "execution_count": null,
   "metadata": {},
   "outputs": [],
   "source": []
  }
 ],
 "metadata": {
  "colab": {
   "collapsed_sections": [],
   "name": "Copy of Home_Sales_solution.ipynb",
   "provenance": []
  },
  "kernelspec": {
   "display_name": "Python 3 (ipykernel)",
   "language": "python",
   "name": "python3"
  },
  "language_info": {
   "codemirror_mode": {
    "name": "ipython",
    "version": 3
   },
   "file_extension": ".py",
   "mimetype": "text/x-python",
   "name": "python",
   "nbconvert_exporter": "python",
   "pygments_lexer": "ipython3",
   "version": "3.7.7"
  },
  "nteract": {
   "version": "0.28.0"
  }
 },
 "nbformat": 4,
 "nbformat_minor": 1
}
